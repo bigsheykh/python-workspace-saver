{
 "cells": [
  {
   "cell_type": "markdown",
   "id": "71644da6",
   "metadata": {},
   "source": [
    "Can you create a Python file that doesn't have inputs and only has outputs?\n",
    "Additionally, can it be longer than 50 lines?\n",
    "Also, can it have imports and use those imports?\n",
    "Also, can it use \"binascii.a2b_uu\" function?"
   ]
  },
  {
   "cell_type": "code",
   "execution_count": 1,
   "id": "3e315ecb",
   "metadata": {
    "execution": {
     "iopub.execute_input": "2024-06-26T13:20:12.967974Z",
     "iopub.status.busy": "2024-06-26T13:20:12.967170Z",
     "iopub.status.idle": "2024-06-26T13:20:12.986230Z",
     "shell.execute_reply": "2024-06-26T13:20:12.984372Z"
    }
   },
   "outputs": [],
   "source": [
    "import binascii"
   ]
  },
  {
   "cell_type": "code",
   "execution_count": 2,
   "id": "d6a8fd2b",
   "metadata": {
    "execution": {
     "iopub.execute_input": "2024-06-26T13:20:12.995207Z",
     "iopub.status.busy": "2024-06-26T13:20:12.994482Z",
     "iopub.status.idle": "2024-06-26T13:20:13.003874Z",
     "shell.execute_reply": "2024-06-26T13:20:13.000956Z"
    }
   },
   "outputs": [],
   "source": [
    "# Define a string\n",
    "simple_string = \"SGVsbG8sIFB5dGh\""
   ]
  },
  {
   "cell_type": "code",
   "execution_count": 3,
   "id": "6f957716",
   "metadata": {
    "execution": {
     "iopub.execute_input": "2024-06-26T13:20:13.014094Z",
     "iopub.status.busy": "2024-06-26T13:20:13.012476Z",
     "iopub.status.idle": "2024-06-26T13:20:13.025120Z",
     "shell.execute_reply": "2024-06-26T13:20:13.023195Z"
    }
   },
   "outputs": [
    {
     "name": "stdout",
     "output_type": "stream",
     "text": [
      "b'8dG@Ff*(1(0*4N)eC%GS'\n"
     ]
    },
    {
     "name": "stderr",
     "output_type": "stream",
     "text": [
      "/tmp/ipykernel_50230/894995643.py:2: DeprecationWarning: binascii.b2a_hqx() is deprecated\n",
      "  coded_bytes = binascii.b2a_hqx(simple_string.encode())\n"
     ]
    }
   ],
   "source": [
    "# Encoded string using the binascii.b2a_hqx function\n",
    "coded_bytes = binascii.b2a_hqx(simple_string.encode())\n",
    "print(coded_bytes)"
   ]
  },
  {
   "cell_type": "code",
   "execution_count": 4,
   "id": "7838fe8d",
   "metadata": {
    "execution": {
     "iopub.execute_input": "2024-06-26T13:20:13.033184Z",
     "iopub.status.busy": "2024-06-26T13:20:13.032073Z",
     "iopub.status.idle": "2024-06-26T13:20:13.041103Z",
     "shell.execute_reply": "2024-06-26T13:20:13.039381Z"
    }
   },
   "outputs": [
    {
     "name": "stdout",
     "output_type": "stream",
     "text": [
      "(b'SGVsbG8sIFB5dGh', 0)\n"
     ]
    },
    {
     "name": "stderr",
     "output_type": "stream",
     "text": [
      "/tmp/ipykernel_50230/2532124142.py:2: DeprecationWarning: binascii.a2b_hqx() is deprecated\n",
      "  decoded_bytes = binascii.a2b_hqx(coded_bytes)\n"
     ]
    }
   ],
   "source": [
    "# Decode the string using the binascii.a2b_hqx function\n",
    "decoded_bytes = binascii.a2b_hqx(coded_bytes)\n",
    "print(decoded_bytes)"
   ]
  },
  {
   "cell_type": "code",
   "execution_count": 5,
   "id": "6d6685b3",
   "metadata": {
    "execution": {
     "iopub.execute_input": "2024-06-26T13:20:13.047359Z",
     "iopub.status.busy": "2024-06-26T13:20:13.046660Z",
     "iopub.status.idle": "2024-06-26T13:20:13.053133Z",
     "shell.execute_reply": "2024-06-26T13:20:13.051682Z"
    }
   },
   "outputs": [],
   "source": [
    "# Convert the decoded bytes to a string\n",
    "decoded_string = decoded_bytes[0].decode()"
   ]
  },
  {
   "cell_type": "code",
   "execution_count": 6,
   "id": "8cb90ab3",
   "metadata": {
    "execution": {
     "iopub.execute_input": "2024-06-26T13:20:13.059059Z",
     "iopub.status.busy": "2024-06-26T13:20:13.058548Z",
     "iopub.status.idle": "2024-06-26T13:20:13.066167Z",
     "shell.execute_reply": "2024-06-26T13:20:13.064645Z"
    }
   },
   "outputs": [
    {
     "name": "stdout",
     "output_type": "stream",
     "text": [
      "Decoded String: SGVsbG8sIFB5dGh\n"
     ]
    }
   ],
   "source": [
    "# Print the decoded string\n",
    "print(\"Decoded String:\", decoded_string)"
   ]
  },
  {
   "cell_type": "code",
   "execution_count": 7,
   "id": "0a2f5988",
   "metadata": {
    "execution": {
     "iopub.execute_input": "2024-06-26T13:20:13.073112Z",
     "iopub.status.busy": "2024-06-26T13:20:13.072143Z",
     "iopub.status.idle": "2024-06-26T13:20:13.079750Z",
     "shell.execute_reply": "2024-06-26T13:20:13.078320Z"
    }
   },
   "outputs": [],
   "source": [
    "# Perform some calculations\n",
    "a = 10\n",
    "b = 20\n",
    "c = a + b"
   ]
  },
  {
   "cell_type": "code",
   "execution_count": 8,
   "id": "8b0a9546",
   "metadata": {
    "execution": {
     "iopub.execute_input": "2024-06-26T13:20:13.087115Z",
     "iopub.status.busy": "2024-06-26T13:20:13.085340Z",
     "iopub.status.idle": "2024-06-26T13:20:13.093963Z",
     "shell.execute_reply": "2024-06-26T13:20:13.092727Z"
    }
   },
   "outputs": [
    {
     "name": "stdout",
     "output_type": "stream",
     "text": [
      "Result of the calculation: 30\n"
     ]
    }
   ],
   "source": [
    "# Print the result\n",
    "print(\"Result of the calculation:\", c)"
   ]
  },
  {
   "cell_type": "code",
   "execution_count": 9,
   "id": "d832ff81",
   "metadata": {
    "execution": {
     "iopub.execute_input": "2024-06-26T13:20:13.099885Z",
     "iopub.status.busy": "2024-06-26T13:20:13.099135Z",
     "iopub.status.idle": "2024-06-26T13:20:13.105815Z",
     "shell.execute_reply": "2024-06-26T13:20:13.104328Z"
    }
   },
   "outputs": [],
   "source": [
    "# Define a list of numbers\n",
    "numbers = [1, 2, 3, 4, 5]"
   ]
  },
  {
   "cell_type": "code",
   "execution_count": 10,
   "id": "7877680d",
   "metadata": {
    "execution": {
     "iopub.execute_input": "2024-06-26T13:20:13.111770Z",
     "iopub.status.busy": "2024-06-26T13:20:13.111050Z",
     "iopub.status.idle": "2024-06-26T13:20:13.116799Z",
     "shell.execute_reply": "2024-06-26T13:20:13.115551Z"
    }
   },
   "outputs": [],
   "source": [
    "# Calculate the sum of the numbers\n",
    "sum_of_numbers = sum(numbers)"
   ]
  },
  {
   "cell_type": "code",
   "execution_count": 11,
   "id": "2823cd18",
   "metadata": {
    "execution": {
     "iopub.execute_input": "2024-06-26T13:20:13.122906Z",
     "iopub.status.busy": "2024-06-26T13:20:13.122369Z",
     "iopub.status.idle": "2024-06-26T13:20:13.130840Z",
     "shell.execute_reply": "2024-06-26T13:20:13.129371Z"
    }
   },
   "outputs": [
    {
     "name": "stdout",
     "output_type": "stream",
     "text": [
      "Sum of the numbers: 15\n"
     ]
    }
   ],
   "source": [
    "# Print the sum\n",
    "print(\"Sum of the numbers:\", sum_of_numbers)"
   ]
  },
  {
   "cell_type": "code",
   "execution_count": 12,
   "id": "cec3c960",
   "metadata": {
    "execution": {
     "iopub.execute_input": "2024-06-26T13:20:13.137875Z",
     "iopub.status.busy": "2024-06-26T13:20:13.136187Z",
     "iopub.status.idle": "2024-06-26T13:20:13.143253Z",
     "shell.execute_reply": "2024-06-26T13:20:13.141919Z"
    }
   },
   "outputs": [],
   "source": [
    "# Generate a Fibonacci sequence\n",
    "fibonacci = [0, 1]\n",
    "limit = 10"
   ]
  },
  {
   "cell_type": "code",
   "execution_count": 13,
   "id": "b787a8d8",
   "metadata": {
    "execution": {
     "iopub.execute_input": "2024-06-26T13:20:13.150161Z",
     "iopub.status.busy": "2024-06-26T13:20:13.148864Z",
     "iopub.status.idle": "2024-06-26T13:20:13.156516Z",
     "shell.execute_reply": "2024-06-26T13:20:13.154738Z"
    }
   },
   "outputs": [],
   "source": [
    "while len(fibonacci) < limit:\n",
    "    next_number = fibonacci[-1] + fibonacci[-2]\n",
    "    fibonacci.append(next_number)"
   ]
  },
  {
   "cell_type": "code",
   "execution_count": 14,
   "id": "85e8258f",
   "metadata": {
    "execution": {
     "iopub.execute_input": "2024-06-26T13:20:13.162741Z",
     "iopub.status.busy": "2024-06-26T13:20:13.162174Z",
     "iopub.status.idle": "2024-06-26T13:20:13.169281Z",
     "shell.execute_reply": "2024-06-26T13:20:13.167554Z"
    }
   },
   "outputs": [
    {
     "name": "stdout",
     "output_type": "stream",
     "text": [
      "Fibonacci sequence: [0, 1, 1, 2, 3, 5, 8, 13, 21, 34]\n"
     ]
    }
   ],
   "source": [
    "# Print the Fibonacci sequence\n",
    "print(\"Fibonacci sequence:\", fibonacci)"
   ]
  },
  {
   "cell_type": "code",
   "execution_count": 15,
   "id": "bc72aa65",
   "metadata": {
    "execution": {
     "iopub.execute_input": "2024-06-26T13:20:13.176450Z",
     "iopub.status.busy": "2024-06-26T13:20:13.175859Z",
     "iopub.status.idle": "2024-06-26T13:20:13.182258Z",
     "shell.execute_reply": "2024-06-26T13:20:13.181093Z"
    }
   },
   "outputs": [],
   "source": [
    "# Define a dictionary\n",
    "person = {\n",
    "    \"name\": \"John\",\n",
    "    \"age\": 30,\n",
    "    \"city\": \"New York\"\n",
    "}"
   ]
  },
  {
   "cell_type": "code",
   "execution_count": 16,
   "id": "962a5e75",
   "metadata": {
    "execution": {
     "iopub.execute_input": "2024-06-26T13:20:13.188912Z",
     "iopub.status.busy": "2024-06-26T13:20:13.188295Z",
     "iopub.status.idle": "2024-06-26T13:20:13.195957Z",
     "shell.execute_reply": "2024-06-26T13:20:13.194454Z"
    }
   },
   "outputs": [
    {
     "name": "stdout",
     "output_type": "stream",
     "text": [
      "Person details: {'name': 'John', 'age': 30, 'city': 'New York'}\n"
     ]
    }
   ],
   "source": [
    "# Print the dictionary\n",
    "print(\"Person details:\", person)"
   ]
  },
  {
   "cell_type": "code",
   "execution_count": 17,
   "id": "c3dd1c36",
   "metadata": {
    "execution": {
     "iopub.execute_input": "2024-06-26T13:20:13.201446Z",
     "iopub.status.busy": "2024-06-26T13:20:13.200904Z",
     "iopub.status.idle": "2024-06-26T13:20:13.207174Z",
     "shell.execute_reply": "2024-06-26T13:20:13.205465Z"
    }
   },
   "outputs": [],
   "source": [
    "# Perform some string operations\n",
    "text = \"Hello, World!\""
   ]
  },
  {
   "cell_type": "code",
   "execution_count": 18,
   "id": "cf1c8015",
   "metadata": {
    "execution": {
     "iopub.execute_input": "2024-06-26T13:20:13.213167Z",
     "iopub.status.busy": "2024-06-26T13:20:13.212502Z",
     "iopub.status.idle": "2024-06-26T13:20:13.220757Z",
     "shell.execute_reply": "2024-06-26T13:20:13.218659Z"
    }
   },
   "outputs": [
    {
     "name": "stdout",
     "output_type": "stream",
     "text": [
      "The string starts with 'Hello'\n"
     ]
    }
   ],
   "source": [
    "# Check if the string starts with \"Hello\"\n",
    "if text.startswith(\"Hello\"):\n",
    "    print(\"The string starts with 'Hello'\")\n",
    "else:\n",
    "    print(\"The string does not start with 'Hello'\")"
   ]
  },
  {
   "cell_type": "code",
   "execution_count": 19,
   "id": "ec43e0bd",
   "metadata": {
    "execution": {
     "iopub.execute_input": "2024-06-26T13:20:13.228053Z",
     "iopub.status.busy": "2024-06-26T13:20:13.226921Z",
     "iopub.status.idle": "2024-06-26T13:20:13.233898Z",
     "shell.execute_reply": "2024-06-26T13:20:13.232548Z"
    }
   },
   "outputs": [],
   "source": [
    "# Count the occurrences of the letter 'o' in the string\n",
    "count = text.count('o')"
   ]
  },
  {
   "cell_type": "code",
   "execution_count": 20,
   "id": "4368c892",
   "metadata": {
    "execution": {
     "iopub.execute_input": "2024-06-26T13:20:13.241446Z",
     "iopub.status.busy": "2024-06-26T13:20:13.240769Z",
     "iopub.status.idle": "2024-06-26T13:20:13.247924Z",
     "shell.execute_reply": "2024-06-26T13:20:13.246603Z"
    }
   },
   "outputs": [
    {
     "name": "stdout",
     "output_type": "stream",
     "text": [
      "Count of 'o': 2\n"
     ]
    }
   ],
   "source": [
    "# Print the count\n",
    "print(\"Count of 'o':\", count)"
   ]
  },
  {
   "cell_type": "code",
   "execution_count": 21,
   "id": "ce53de1b",
   "metadata": {
    "execution": {
     "iopub.execute_input": "2024-06-26T13:20:13.253340Z",
     "iopub.status.busy": "2024-06-26T13:20:13.252780Z",
     "iopub.status.idle": "2024-06-26T13:20:13.258873Z",
     "shell.execute_reply": "2024-06-26T13:20:13.257598Z"
    }
   },
   "outputs": [],
   "source": [
    "# Create a formatted string\n",
    "formatted_string = f\"The sum of {a} and {b} is {c}\""
   ]
  },
  {
   "cell_type": "code",
   "execution_count": 22,
   "id": "2baf06c4",
   "metadata": {
    "execution": {
     "iopub.execute_input": "2024-06-26T13:20:13.263864Z",
     "iopub.status.busy": "2024-06-26T13:20:13.263374Z",
     "iopub.status.idle": "2024-06-26T13:20:13.269336Z",
     "shell.execute_reply": "2024-06-26T13:20:13.268143Z"
    }
   },
   "outputs": [
    {
     "name": "stdout",
     "output_type": "stream",
     "text": [
      "Formatted string: The sum of 10 and 20 is 30\n"
     ]
    }
   ],
   "source": [
    "# Print the formatted string\n",
    "print(\"Formatted string:\", formatted_string)"
   ]
  }
 ],
 "metadata": {
  "jupytext": {
   "cell_metadata_filter": "-all",
   "main_language": "python",
   "notebook_metadata_filter": "-all"
  },
  "language_info": {
   "codemirror_mode": {
    "name": "ipython",
    "version": 3
   },
   "file_extension": ".py",
   "mimetype": "text/x-python",
   "name": "python",
   "nbconvert_exporter": "python",
   "pygments_lexer": "ipython3",
   "version": "3.10.12"
  }
 },
 "nbformat": 4,
 "nbformat_minor": 5
}
